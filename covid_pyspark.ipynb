{
 "cells": [
  {
   "cell_type": "markdown",
   "metadata": {},
   "source": [
    "\"\"\"\n",
    "\n",
    "@Author: Naveen Madev Naik<br>\n",
    "@Date: 2024-08-08<br>\n",
    "@Last Modified by: Naveen Madev Naik<br>\n",
    "@Last Modified time: 2024-08-08<br>\n",
    "@Title: sql operation on covid dataset using pyspark<br>\n",
    "\n",
    "\"\"\""
   ]
  },
  {
   "cell_type": "code",
   "execution_count": 1,
   "metadata": {},
   "outputs": [],
   "source": [
    "from pyspark.sql import SparkSession\n",
    "spark=SparkSession.builder\\\n",
    "        .appName(\"Covid problem using pyspark sql\")\\\n",
    "        .getOrCreate()\n"
   ]
  },
  {
   "cell_type": "markdown",
   "metadata": {},
   "source": [
    "## 1.To find out the death percentage locally and globally"
   ]
  },
  {
   "cell_type": "markdown",
   "metadata": {},
   "source": [
    "### Death Percentage Globally"
   ]
  },
  {
   "cell_type": "code",
   "execution_count": 19,
   "metadata": {},
   "outputs": [],
   "source": [
    "from pyspark.sql.functions import col"
   ]
  },
  {
   "cell_type": "code",
   "execution_count": 32,
   "metadata": {},
   "outputs": [
    {
     "name": "stdout",
     "output_type": "stream",
     "text": [
      "root\n",
      " |-- Country/Region: string (nullable = true)\n",
      " |-- Confirmed: integer (nullable = true)\n",
      " |-- Deaths: integer (nullable = true)\n",
      " |-- Recovered: integer (nullable = true)\n",
      " |-- Active: integer (nullable = true)\n",
      " |-- New cases: integer (nullable = true)\n",
      " |-- New deaths: integer (nullable = true)\n",
      " |-- New recovered: integer (nullable = true)\n",
      " |-- Deaths / 100 Cases: double (nullable = true)\n",
      " |-- Recovered / 100 Cases: double (nullable = true)\n",
      " |-- Deaths / 100 Recovered: string (nullable = true)\n",
      " |-- Confirmed last week: integer (nullable = true)\n",
      " |-- 1 week change: integer (nullable = true)\n",
      " |-- 1 week % increase: double (nullable = true)\n",
      " |-- WHO Region: string (nullable = true)\n",
      "\n",
      "+-------------------+----------------+\n",
      "|     Country/Region|death_percentage|\n",
      "+-------------------+----------------+\n",
      "|        Afghanistan|            3.50|\n",
      "|            Albania|            2.95|\n",
      "|            Algeria|            4.16|\n",
      "|            Andorra|            5.73|\n",
      "|             Angola|            4.32|\n",
      "|Antigua and Barbuda|            3.49|\n",
      "|          Argentina|            1.83|\n",
      "|            Armenia|            1.90|\n",
      "|          Australia|            1.09|\n",
      "|            Austria|            3.47|\n",
      "|         Azerbaijan|            1.39|\n",
      "|            Bahamas|            2.88|\n",
      "|            Bahrain|            0.36|\n",
      "|         Bangladesh|            1.31|\n",
      "|           Barbados|            6.36|\n",
      "|            Belarus|            0.80|\n",
      "|            Belgium|           14.79|\n",
      "|             Belize|            4.17|\n",
      "|              Benin|            1.98|\n",
      "|             Bhutan|            0.00|\n",
      "+-------------------+----------------+\n",
      "only showing top 20 rows\n",
      "\n"
     ]
    }
   ],
   "source": [
    "file_path = r\"file:///E:/Documents/DataSet/covid/country_wise_latest.csv\"\n",
    "df = spark.read.csv(file_path, header=True, inferSchema=True)\n",
    "df.select(\"Country/Region\")\n",
    "df.printSchema()\n",
    "df.createOrReplaceTempView(\"country\")\n",
    "result_globally = spark.sql(''' select `Country/Region`,round(deaths*100.00/confirmed,2) as death_percentage from country ''')\n",
    "result_globally.show()"
   ]
  },
  {
   "cell_type": "markdown",
   "metadata": {},
   "source": [
    "### Death Percentage Locally"
   ]
  },
  {
   "cell_type": "code",
   "execution_count": 34,
   "metadata": {},
   "outputs": [
    {
     "name": "stdout",
     "output_type": "stream",
     "text": [
      "+--------------+----------------+\n",
      "|Country/Region|death_percentage|\n",
      "+--------------+----------------+\n",
      "|         India|            2.26|\n",
      "+--------------+----------------+\n",
      "\n"
     ]
    }
   ],
   "source": [
    "result_locally= spark.sql(''' select `Country/Region`,round(deaths*100.00/confirmed,2) as death_percentage from country where `Country/Region`='India' ''')\n",
    "result_locally.show()"
   ]
  },
  {
   "cell_type": "markdown",
   "metadata": {},
   "source": [
    "## 2.To find out the infected population percentage locally and globally"
   ]
  },
  {
   "cell_type": "markdown",
   "metadata": {},
   "source": [
    "### Global infected population percentage"
   ]
  },
  {
   "cell_type": "code",
   "execution_count": 38,
   "metadata": {},
   "outputs": [
    {
     "name": "stdout",
     "output_type": "stream",
     "text": [
      "root\n",
      " |-- Country/Region: string (nullable = true)\n",
      " |-- Continent: string (nullable = true)\n",
      " |-- Population: integer (nullable = true)\n",
      " |-- TotalCases: integer (nullable = true)\n",
      " |-- NewCases: integer (nullable = true)\n",
      " |-- TotalDeaths: integer (nullable = true)\n",
      " |-- NewDeaths: integer (nullable = true)\n",
      " |-- TotalRecovered: integer (nullable = true)\n",
      " |-- NewRecovered: integer (nullable = true)\n",
      " |-- ActiveCases: integer (nullable = true)\n",
      " |-- Serious,Critical: integer (nullable = true)\n",
      " |-- Tot Cases/1M pop: integer (nullable = true)\n",
      " |-- Deaths/1M pop: double (nullable = true)\n",
      " |-- TotalTests: integer (nullable = true)\n",
      " |-- Tests/1M pop: integer (nullable = true)\n",
      " |-- WHO Region: string (nullable = true)\n",
      "\n",
      "+--------------+----------------------------+\n",
      "|Country/Region|infectedPopulationPercentage|\n",
      "+--------------+----------------------------+\n",
      "|           USA|                      1.5194|\n",
      "|        Brazil|                      1.3716|\n",
      "|         India|                      0.1466|\n",
      "|        Russia|                      0.5974|\n",
      "|  South Africa|                      0.9063|\n",
      "|        Mexico|                      0.3585|\n",
      "|          Peru|                      1.3793|\n",
      "|         Chile|                      1.9165|\n",
      "|      Colombia|                      0.7023|\n",
      "|         Spain|                      0.7582|\n",
      "|          Iran|                      0.3806|\n",
      "|            UK|                      0.4537|\n",
      "|  Saudi Arabia|                      0.8152|\n",
      "|      Pakistan|                      0.1274|\n",
      "|    Bangladesh|                      0.1514|\n",
      "|         Italy|                      0.4122|\n",
      "|        Turkey|                      0.2810|\n",
      "|     Argentina|                      0.5044|\n",
      "|       Germany|                      0.2568|\n",
      "|        France|                      0.2996|\n",
      "+--------------+----------------------------+\n",
      "only showing top 20 rows\n",
      "\n"
     ]
    }
   ],
   "source": [
    "file_path_worldmeter = r\"file:///E:/Documents/DataSet/covid/worldometer_data.csv\"\n",
    "df = spark.read.csv(file_path_worldmeter, header=True, inferSchema=True)\n",
    "df.printSchema()\n",
    "df.createOrReplaceTempView(\"Worldometer\")\n",
    "result_globally = spark.sql(''' select `Country/Region`,round((Totalcases*100.0/Population),4)  as infectedPopulationPercentage from Worldometer ''')\n",
    "result_globally.show()\n",
    " \n"
   ]
  },
  {
   "cell_type": "markdown",
   "metadata": {},
   "source": [
    "### Local infected population percentage"
   ]
  },
  {
   "cell_type": "code",
   "execution_count": 39,
   "metadata": {},
   "outputs": [
    {
     "name": "stdout",
     "output_type": "stream",
     "text": [
      "+--------------+----------------------------+\n",
      "|Country/Region|infectedPopulationPercentage|\n",
      "+--------------+----------------------------+\n",
      "|         India|                      0.1466|\n",
      "+--------------+----------------------------+\n",
      "\n"
     ]
    }
   ],
   "source": [
    "result_locally = spark.sql(''' select `Country/Region`,round((Totalcases*100.0/Population),4)  as infectedPopulationPercentage from Worldometer where `Country/Region`='India' ''')\n",
    "result_locally.show()"
   ]
  },
  {
   "cell_type": "markdown",
   "metadata": {},
   "source": [
    "## 3.To find out the countries with the highest infection rates"
   ]
  },
  {
   "cell_type": "code",
   "execution_count": 40,
   "metadata": {},
   "outputs": [
    {
     "name": "stdout",
     "output_type": "stream",
     "text": [
      "root\n",
      " |-- Country/Region: string (nullable = true)\n",
      " |-- Confirmed: integer (nullable = true)\n",
      " |-- Deaths: integer (nullable = true)\n",
      " |-- Recovered: integer (nullable = true)\n",
      " |-- Active: integer (nullable = true)\n",
      " |-- New cases: integer (nullable = true)\n",
      " |-- New deaths: integer (nullable = true)\n",
      " |-- New recovered: integer (nullable = true)\n",
      " |-- Deaths / 100 Cases: double (nullable = true)\n",
      " |-- Recovered / 100 Cases: double (nullable = true)\n",
      " |-- Deaths / 100 Recovered: string (nullable = true)\n",
      " |-- Confirmed last week: integer (nullable = true)\n",
      " |-- 1 week change: integer (nullable = true)\n",
      " |-- 1 week % increase: double (nullable = true)\n",
      " |-- WHO Region: string (nullable = true)\n",
      "\n",
      "+--------------+-----------------+\n",
      "|Country/Region|highest_infection|\n",
      "+--------------+-----------------+\n",
      "|            US|          4290259|\n",
      "+--------------+-----------------+\n",
      "\n"
     ]
    }
   ],
   "source": [
    "file_path = r\"file:///E:/Documents/DataSet/covid/country_wise_latest.csv\"\n",
    "df = spark.read.csv(file_path, header=True, inferSchema=True)\n",
    "df.printSchema()\n",
    "df.createOrReplaceTempView(\"CountryWiseList\")\n",
    "result = spark.sql(''' select `Country/Region`,Confirmed as highest_infection from CountryWiseList where Confirmed in (select max(Confirmed) from CountryWiseList ) ''')\n",
    "result.show()"
   ]
  },
  {
   "cell_type": "markdown",
   "metadata": {},
   "source": [
    "## 4. To find out the countries and continents with the highest death counts"
   ]
  },
  {
   "cell_type": "markdown",
   "metadata": {},
   "source": [
    "### Continent with highest death count"
   ]
  },
  {
   "cell_type": "code",
   "execution_count": 52,
   "metadata": {},
   "outputs": [
    {
     "name": "stdout",
     "output_type": "stream",
     "text": [
      "+-------------+----------+\n",
      "|    Continent|totaldeath|\n",
      "+-------------+----------+\n",
      "|North America|    229855|\n",
      "+-------------+----------+\n",
      "\n"
     ]
    }
   ],
   "source": [
    "result_globally = spark.sql(''' select `Continent`,sum(TotalDeaths) as totaldeath from Worldometer group by `Continent`  order by TotalDeath desc limit 1 ''')\n",
    "result_globally.show()\n"
   ]
  },
  {
   "cell_type": "markdown",
   "metadata": {},
   "source": [
    "### Country with highest Death count"
   ]
  },
  {
   "cell_type": "code",
   "execution_count": 53,
   "metadata": {},
   "outputs": [
    {
     "name": "stdout",
     "output_type": "stream",
     "text": [
      "+--------------+-----------+\n",
      "|Country/Region|TotalDeaths|\n",
      "+--------------+-----------+\n",
      "|           USA|     162804|\n",
      "+--------------+-----------+\n",
      "\n"
     ]
    }
   ],
   "source": [
    "result_globally = spark.sql(''' select `Country/Region`,TotalDeaths  from Worldometer order by TotalDeaths desc limit 1 ''')\n",
    "result_globally.show()"
   ]
  },
  {
   "cell_type": "markdown",
   "metadata": {},
   "source": [
    "## 5. Average number of deaths by day (Continents and Countries) "
   ]
  },
  {
   "cell_type": "markdown",
   "metadata": {},
   "source": [
    "### Average number of deaths by day in a country"
   ]
  },
  {
   "cell_type": "code",
   "execution_count": 57,
   "metadata": {},
   "outputs": [
    {
     "name": "stdout",
     "output_type": "stream",
     "text": [
      "root\n",
      " |-- Province/State: string (nullable = true)\n",
      " |-- Country/Region: string (nullable = true)\n",
      " |-- Lat: double (nullable = true)\n",
      " |-- Long: double (nullable = true)\n",
      " |-- Date: date (nullable = true)\n",
      " |-- Confirmed: integer (nullable = true)\n",
      " |-- Deaths: integer (nullable = true)\n",
      " |-- Recovered: integer (nullable = true)\n",
      " |-- Active: integer (nullable = true)\n",
      " |-- WHO Region: string (nullable = true)\n",
      "\n",
      "+--------------+------------------------+\n",
      "|Country/Region|average_deaths_countries|\n",
      "+--------------+------------------------+\n",
      "|          Chad|      29.377659574468087|\n",
      "|      Paraguay|       8.845744680851064|\n",
      "|        Russia|       3294.601063829787|\n",
      "|         Yemen|       94.18617021276596|\n",
      "|       Senegal|       38.17553191489362|\n",
      "|    Cabo Verde|       4.542553191489362|\n",
      "|        Sweden|      2387.8351063829787|\n",
      "|        Guyana|       7.159574468085107|\n",
      "|       Eritrea|                     0.0|\n",
      "|   Philippines|       589.8510638297872|\n",
      "|         Burma|       3.398936170212766|\n",
      "|      Djibouti|       16.01595744680851|\n",
      "|      Malaysia|       68.99468085106383|\n",
      "|     Singapore|       12.98404255319149|\n",
      "|          Fiji|                     0.0|\n",
      "|        Turkey|       2479.021276595745|\n",
      "|        Malawi|        8.72340425531915|\n",
      "|Western Sahara|      0.3351063829787234|\n",
      "|          Iraq|       645.7021276595744|\n",
      "|       Germany|       4634.691489361702|\n",
      "+--------------+------------------------+\n",
      "only showing top 20 rows\n",
      "\n"
     ]
    }
   ],
   "source": [
    "file_path_covid_clean = r\"file:///E:/Documents/DataSet/covid/covid_19_clean_complete.csv\"\n",
    "df = spark.read.csv(file_path_covid_clean, header=True, inferSchema=True)\n",
    "df.printSchema()\n",
    "df.createOrReplaceTempView(\"CovidClean\")\n",
    "result = spark.sql(''' select `Country/Region`,sum(deaths)/count(`Country/Region`) as average_deaths_countries from CovidClean group by `Country/Region` ''')\n",
    "result.show()\n"
   ]
  },
  {
   "cell_type": "markdown",
   "metadata": {},
   "source": [
    "### Average number of deaths by day in a Continent"
   ]
  },
  {
   "cell_type": "code",
   "execution_count": 58,
   "metadata": {},
   "outputs": [
    {
     "name": "stdout",
     "output_type": "stream",
     "text": [
      "+--------------------+------------------------+\n",
      "|          WHO Region|average_deaths_continent|\n",
      "+--------------------+------------------------+\n",
      "|              Europe|      1281.3191489361702|\n",
      "|     Western Pacific|       90.17698259187621|\n",
      "|              Africa|       48.75642730496454|\n",
      "|Eastern Mediterra...|       465.1907640232108|\n",
      "|            Americas|       2238.586031452359|\n",
      "|     South-East Asia|       775.6031914893617|\n",
      "+--------------------+------------------------+\n",
      "\n"
     ]
    }
   ],
   "source": [
    "result = spark.sql(''' select `WHO Region`,sum(deaths)/count(`WHO Region`) as average_deaths_continent from CovidClean group by `WHO Region` ''')\n",
    "result.show()"
   ]
  },
  {
   "cell_type": "markdown",
   "metadata": {},
   "source": [
    "## 6. Average of cases divided by the number of population of each country (TOP 10)"
   ]
  },
  {
   "cell_type": "code",
   "execution_count": 59,
   "metadata": {},
   "outputs": [
    {
     "name": "stdout",
     "output_type": "stream",
     "text": [
      "+--------------+--------------------+\n",
      "|Country/Region|Cases_Per_Population|\n",
      "+--------------+--------------------+\n",
      "|         Qatar|      0.039921575750|\n",
      "| French Guiana|      0.027145648580|\n",
      "|       Bahrain|      0.025130239080|\n",
      "|    San Marino|      0.020596381637|\n",
      "|         Chile|      0.019164810228|\n",
      "|        Panama|      0.016527039892|\n",
      "|        Kuwait|      0.016378443168|\n",
      "|          Oman|      0.015769043964|\n",
      "|           USA|      0.015193862961|\n",
      "|  Vatican City|      0.014981273408|\n",
      "+--------------+--------------------+\n",
      "\n"
     ]
    }
   ],
   "source": [
    "result = spark.sql(''' select `Country/Region`,(TotalCases * 1.0 / Population) AS Cases_Per_Population FROM Worldometer order by Cases_Per_Population desc limit 10 ''')\n",
    "result.show()"
   ]
  },
  {
   "cell_type": "markdown",
   "metadata": {},
   "source": [
    "## 7. Considering the highest value of total cases, which countries have the highest rate of infection in relation to population? "
   ]
  },
  {
   "cell_type": "code",
   "execution_count": 61,
   "metadata": {},
   "outputs": [
    {
     "name": "stdout",
     "output_type": "stream",
     "text": [
      "+--------------+-----------+--------------+\n",
      "|Country/Region|TotalDeaths|Infection_Rate|\n",
      "+--------------+-----------+--------------+\n",
      "|           USA|     162804|0.015193862961|\n",
      "+--------------+-----------+--------------+\n",
      "\n"
     ]
    }
   ],
   "source": [
    "result = spark.sql(''' select `Country/Region`,TotalDeaths,(TotalCases * 1.0 / Population) AS Infection_Rate FROM Worldometer order by TotalDeaths desc limit 1''')\n",
    "result.show()"
   ]
  },
  {
   "cell_type": "markdown",
   "metadata": {},
   "source": [
    "## Using JOINS"
   ]
  },
  {
   "cell_type": "markdown",
   "metadata": {},
   "source": [
    "## 1. To find out the population vs the number of people vaccinated"
   ]
  },
  {
   "cell_type": "code",
   "execution_count": 66,
   "metadata": {},
   "outputs": [
    {
     "name": "stdout",
     "output_type": "stream",
     "text": [
      "root\n",
      " |-- Country/Region: string (nullable = true)\n",
      " |-- Continent: string (nullable = true)\n",
      " |-- Population: integer (nullable = true)\n",
      " |-- TotalCases: integer (nullable = true)\n",
      " |-- NewCases: integer (nullable = true)\n",
      " |-- TotalDeaths: integer (nullable = true)\n",
      " |-- NewDeaths: integer (nullable = true)\n",
      " |-- TotalRecovered: integer (nullable = true)\n",
      " |-- NewRecovered: integer (nullable = true)\n",
      " |-- ActiveCases: integer (nullable = true)\n",
      " |-- Serious,Critical: integer (nullable = true)\n",
      " |-- Tot Cases/1M pop: integer (nullable = true)\n",
      " |-- Deaths/1M pop: double (nullable = true)\n",
      " |-- TotalTests: integer (nullable = true)\n",
      " |-- Tests/1M pop: integer (nullable = true)\n",
      " |-- WHO Region: string (nullable = true)\n",
      "\n",
      "root\n",
      " |-- Updated On: string (nullable = true)\n",
      " |-- State: string (nullable = true)\n",
      " |-- Total Doses Administered: double (nullable = true)\n",
      " |-- Sessions: double (nullable = true)\n",
      " |--  Sites : double (nullable = true)\n",
      " |-- First Dose Administered: double (nullable = true)\n",
      " |-- Second Dose Administered: double (nullable = true)\n",
      " |-- Male (Doses Administered): double (nullable = true)\n",
      " |-- Female (Doses Administered): double (nullable = true)\n",
      " |-- Transgender (Doses Administered): double (nullable = true)\n",
      " |--  Covaxin (Doses Administered): double (nullable = true)\n",
      " |-- CoviShield (Doses Administered): double (nullable = true)\n",
      " |-- Sputnik V (Doses Administered): double (nullable = true)\n",
      " |-- AEFI: double (nullable = true)\n",
      " |-- 18-44 Years (Doses Administered): double (nullable = true)\n",
      " |-- 45-60 Years (Doses Administered): double (nullable = true)\n",
      " |-- 60+ Years (Doses Administered): double (nullable = true)\n",
      " |-- 18-44 Years(Individuals Vaccinated): double (nullable = true)\n",
      " |-- 45-60 Years(Individuals Vaccinated): double (nullable = true)\n",
      " |-- 60+ Years(Individuals Vaccinated): double (nullable = true)\n",
      " |-- Male(Individuals Vaccinated): double (nullable = true)\n",
      " |-- Female(Individuals Vaccinated): double (nullable = true)\n",
      " |-- Transgender(Individuals Vaccinated): double (nullable = true)\n",
      " |-- Total Individuals Vaccinated: double (nullable = true)\n",
      "\n"
     ]
    }
   ],
   "source": [
    "worldometer_data_df = spark.read.csv('file:///E:/Documents/DataSet/covid/worldometer_data.csv', header=True, inferSchema=True)\n",
    "covid_vaccine_statewise_df = spark.read.csv('file:///E:/Documents/DataSet/covid/covid_vaccine_statewise.csv', header=True, inferSchema=True)\n",
    "worldometer_data_df.printSchema()\n",
    "covid_vaccine_statewise_df.printSchema()\n",
    "worldometer_data_df.createOrReplaceTempView(\"worldometer_data\")\n",
    "covid_vaccine_statewise_df.createOrReplaceTempView(\"covid_vaccine_statewise\")"
   ]
  },
  {
   "cell_type": "code",
   "execution_count": 78,
   "metadata": {},
   "outputs": [
    {
     "name": "stdout",
     "output_type": "stream",
     "text": [
      "+----------+\n",
      "|percentage|\n",
      "+----------+\n",
      "|     33.53|\n",
      "+----------+\n",
      "\n"
     ]
    }
   ],
   "source": [
    "result = spark.sql('''\n",
    "    SELECT ROUND(\n",
    "        (cv.`Total Doses Administered`* 100.0)/wd.MaxPopulation, \n",
    "        2\n",
    "    ) AS percentage\n",
    "    FROM \n",
    "        (SELECT MAX(Population) AS MaxPopulation\n",
    "         FROM worldometer_data \n",
    "         WHERE `Continent`= 'Asia') wd\n",
    "    JOIN \n",
    "        (SELECT `Total Doses Administered`\n",
    "         FROM covid_vaccine_statewise \n",
    "         WHERE `State`= 'India' \n",
    "         AND `Updated On` = (\n",
    "             SELECT MAX(`Updated On`)\n",
    "             FROM covid_vaccine_statewise \n",
    "             WHERE `State`= 'India' \n",
    "             AND `Total Doses Administered` IS NOT NULL\n",
    "         )\n",
    "         AND `Total Doses Administered` IS NOT NULL) cv\n",
    "    ON 1=1\n",
    "''')\n",
    "result.show()"
   ]
  },
  {
   "cell_type": "markdown",
   "metadata": {},
   "source": [
    "## 2. To find out the percentage of different vaccine taken by people in a country"
   ]
  },
  {
   "cell_type": "code",
   "execution_count": 84,
   "metadata": {},
   "outputs": [
    {
     "name": "stdout",
     "output_type": "stream",
     "text": [
      "root\n",
      " |-- Updated On: string (nullable = true)\n",
      " |-- State: string (nullable = true)\n",
      " |-- Total Doses Administered: double (nullable = true)\n",
      " |-- Sessions: double (nullable = true)\n",
      " |--  Sites : double (nullable = true)\n",
      " |-- First Dose Administered: double (nullable = true)\n",
      " |-- Second Dose Administered: double (nullable = true)\n",
      " |-- Male (Doses Administered): double (nullable = true)\n",
      " |-- Female (Doses Administered): double (nullable = true)\n",
      " |-- Transgender (Doses Administered): double (nullable = true)\n",
      " |--  Covaxin (Doses Administered): double (nullable = true)\n",
      " |-- CoviShield (Doses Administered): double (nullable = true)\n",
      " |-- Sputnik V (Doses Administered): double (nullable = true)\n",
      " |-- AEFI: double (nullable = true)\n",
      " |-- 18-44 Years (Doses Administered): double (nullable = true)\n",
      " |-- 45-60 Years (Doses Administered): double (nullable = true)\n",
      " |-- 60+ Years (Doses Administered): double (nullable = true)\n",
      " |-- 18-44 Years(Individuals Vaccinated): double (nullable = true)\n",
      " |-- 45-60 Years(Individuals Vaccinated): double (nullable = true)\n",
      " |-- 60+ Years(Individuals Vaccinated): double (nullable = true)\n",
      " |-- Male(Individuals Vaccinated): double (nullable = true)\n",
      " |-- Female(Individuals Vaccinated): double (nullable = true)\n",
      " |-- Transgender(Individuals Vaccinated): double (nullable = true)\n",
      " |-- Total Individuals Vaccinated: double (nullable = true)\n",
      "\n"
     ]
    }
   ],
   "source": [
    "covid_vaccine_statewise_df = spark.read.csv('file:///E:/Documents/DataSet/covid/covid_vaccine_statewise.csv', header=True, inferSchema=True)\n",
    "covid_vaccine_statewise_df.printSchema()\n",
    "covid_vaccine_statewise_df.createOrReplaceTempView(\"covid_vaccine_statewise\")"
   ]
  },
  {
   "cell_type": "code",
   "execution_count": 88,
   "metadata": {},
   "outputs": [
    {
     "name": "stdout",
     "output_type": "stream",
     "text": [
      "+----------+--------------------+-------------------+---------------------+--------------------+\n",
      "|      Date|               State| Covaxin_Percentage|CoviShield_Percentage|Sputnik_V_Percentage|\n",
      "+----------+--------------------+-------------------+---------------------+--------------------+\n",
      "|01/02/2021|Dadra and Nagar H...|                0.0|                100.0|                NULL|\n",
      "|01/02/2021|              Ladakh|                0.0|                100.0|                NULL|\n",
      "|01/02/2021|Andaman and Nicob...|                0.0|                100.0|                NULL|\n",
      "|01/02/2021|      Andhra Pradesh|  5.930021999072148|    94.06997800092785|                NULL|\n",
      "|01/02/2021|   Arunachal Pradesh|                0.0|                100.0|                NULL|\n",
      "|01/02/2021|               India|  2.070642173081831|    97.92935782691816|                NULL|\n",
      "|01/02/2021|               Bihar| 2.3935931512996653|    97.60640684870033|                NULL|\n",
      "|01/02/2021|          Chandigarh|                0.0|                100.0|                NULL|\n",
      "|01/02/2021|        Chhattisgarh|                0.0|                100.0|                NULL|\n",
      "|01/02/2021|               Assam|  7.398929753472115|    92.60107024652788|                NULL|\n",
      "|01/02/2021|               Delhi|  5.003790750568613|    94.99620924943139|                NULL|\n",
      "|01/02/2021|                 Goa|                0.0|                100.0|                NULL|\n",
      "|01/02/2021|             Gujarat| 6.4222120561635645|    93.57778794383644|                NULL|\n",
      "|01/02/2021|             Haryana| 3.7038959960126268|    96.29610400398737|                NULL|\n",
      "|01/02/2021|    Himachal Pradesh|                0.0|                100.0|                NULL|\n",
      "|01/02/2021|   Jammu and Kashmir|                0.0|                100.0|                NULL|\n",
      "|01/02/2021|           Jharkhand|0.05108948322987713|    99.94891051677013|                NULL|\n",
      "|01/02/2021|           Karnataka|  1.295157463459915|    98.70484253654008|                NULL|\n",
      "|01/02/2021|              Kerala|                0.0|                100.0|                NULL|\n",
      "|01/02/2021|         Lakshadweep|                0.0|                100.0|                NULL|\n",
      "+----------+--------------------+-------------------+---------------------+--------------------+\n",
      "only showing top 20 rows\n",
      "\n"
     ]
    }
   ],
   "source": [
    "result = spark.sql('''\n",
    "    SELECT\n",
    "        `Updated On` AS Date,\n",
    "        `State`,\n",
    "        ` Covaxin (Doses Administered)`* 100.0 /`Total Doses Administered` AS Covaxin_Percentage,\n",
    "        `CoviShield (Doses Administered)`* 100.0 /`Total Doses Administered` AS CoviShield_Percentage,\n",
    "        `Sputnik V (Doses Administered)`* 100.0 /`Total Doses Administered` AS Sputnik_V_Percentage\n",
    "    FROM \n",
    "        covid_vaccine_statewise\n",
    "    ORDER BY Date ASC\n",
    "''')\n",
    "result.show()"
   ]
  },
  {
   "cell_type": "markdown",
   "metadata": {},
   "source": [
    "## 3. To find out percentage of people who took both the doses"
   ]
  },
  {
   "cell_type": "code",
   "execution_count": 93,
   "metadata": {},
   "outputs": [
    {
     "name": "stdout",
     "output_type": "stream",
     "text": [
      "+----------+--------------------+---------------------+\n",
      "|      Date|               State|Percentage_Both_Doses|\n",
      "+----------+--------------------+---------------------+\n",
      "|01/02/2021|Dadra and Nagar H...|                  0.0|\n",
      "|01/02/2021|              Ladakh|                  0.0|\n",
      "|01/02/2021|Andaman and Nicob...|                  0.0|\n",
      "|01/02/2021|      Andhra Pradesh|                  0.0|\n",
      "|01/02/2021|   Arunachal Pradesh|                  0.0|\n",
      "|01/02/2021|               India|                  0.0|\n",
      "|01/02/2021|               Bihar|                  0.0|\n",
      "|01/02/2021|          Chandigarh|                  0.0|\n",
      "|01/02/2021|        Chhattisgarh|                  0.0|\n",
      "|01/02/2021|               Assam|                  0.0|\n",
      "|01/02/2021|               Delhi|                  0.0|\n",
      "|01/02/2021|                 Goa|                  0.0|\n",
      "|01/02/2021|             Gujarat|                  0.0|\n",
      "|01/02/2021|             Haryana|                  0.0|\n",
      "|01/02/2021|    Himachal Pradesh|                  0.0|\n",
      "|01/02/2021|   Jammu and Kashmir|                  0.0|\n",
      "|01/02/2021|           Jharkhand|                  0.0|\n",
      "|01/02/2021|           Karnataka|                  0.0|\n",
      "|01/02/2021|              Kerala|                  0.0|\n",
      "|01/02/2021|         Lakshadweep|                  0.0|\n",
      "+----------+--------------------+---------------------+\n",
      "only showing top 20 rows\n",
      "\n"
     ]
    }
   ],
   "source": [
    "result = spark.sql('''\n",
    "    SELECT\n",
    "        covid_1.`Updated On` AS Date,\n",
    "        covid_1.State,\n",
    "        COALESCE(covid_2.`Second Dose Administered`, 0) * 100.0 / COALESCE(covid_1.`First Dose Administered`, 1) AS Percentage_Both_Doses\n",
    "    FROM \n",
    "        covid_vaccine_statewise covid_1\n",
    "    JOIN \n",
    "        covid_vaccine_statewise covid_2\n",
    "    ON \n",
    "        covid_1.State = covid_2.State\n",
    "        AND covid_1.`Updated On` = covid_2.`Updated On` \n",
    "    ORDER BY \n",
    "        covid_1.`Updated On` ASC\n",
    "''')\n",
    "\n",
    "result.show()"
   ]
  }
 ],
 "metadata": {
  "kernelspec": {
   "display_name": "Python 3",
   "language": "python",
   "name": "python3"
  },
  "language_info": {
   "codemirror_mode": {
    "name": "ipython",
    "version": 3
   },
   "file_extension": ".py",
   "mimetype": "text/x-python",
   "name": "python",
   "nbconvert_exporter": "python",
   "pygments_lexer": "ipython3",
   "version": "3.12.4"
  }
 },
 "nbformat": 4,
 "nbformat_minor": 2
}
