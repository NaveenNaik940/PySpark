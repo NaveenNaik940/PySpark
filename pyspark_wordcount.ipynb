{
 "cells": [
  {
   "cell_type": "markdown",
   "metadata": {},
   "source": [
    "\"\"\"\n",
    "\n",
    "@Author: Naveen Madev Naik<br>\n",
    "@Date: 2024-08-08<br>\n",
    "@Last Modified by: Naveen Madev Naik<br>\n",
    "@Last Modified time: 2024-08-08<br>\n",
    "@Title: Wordcount of textfile using pyspark<br>\n",
    "\n",
    "\"\"\""
   ]
  },
  {
   "cell_type": "code",
   "execution_count": 18,
   "metadata": {},
   "outputs": [],
   "source": [
    "from pyspark.sql import SparkSession\n",
    "from pyspark.sql.functions import explode, split, col"
   ]
  },
  {
   "cell_type": "code",
   "execution_count": 3,
   "metadata": {},
   "outputs": [],
   "source": [
    "spark = SparkSession.builder \\\n",
    "    .appName(\"WordCount\") \\\n",
    "    .getOrCreate()"
   ]
  },
  {
   "cell_type": "code",
   "execution_count": 21,
   "metadata": {},
   "outputs": [
    {
     "name": "stdout",
     "output_type": "stream",
     "text": [
      "+-------+-----+\n",
      "|   word|count|\n",
      "+-------+-----+\n",
      "| Little|    4|\n",
      "|  above|    2|\n",
      "|    you|    4|\n",
      "|     in|    2|\n",
      "|     Up|    2|\n",
      "|   Like|    2|\n",
      "|Twinkle|    6|\n",
      "| wonder|    4|\n",
      "|diamond|    2|\n",
      "|    sky|    2|\n",
      "|   are!|    2|\n",
      "|    How|    4|\n",
      "|    the|    4|\n",
      "|   high|    2|\n",
      "|   what|    4|\n",
      "|    are|    2|\n",
      "|  world|    2|\n",
      "|      I|    4|\n",
      "|     so|    2|\n",
      "|      a|    2|\n",
      "+-------+-----+\n",
      "only showing top 20 rows\n",
      "\n"
     ]
    }
   ],
   "source": [
    "\n",
    "# Read a text file into a DataFrame\n",
    "df = spark.read.text(\"file:///C:/Users/naikn/OneDrive/Documents/python/Spark/sample.txt\")\n",
    "\n",
    "# Split the lines into words and explode them into individual rows\n",
    "words_df = df.select(explode(split(col(\"value\"), r\"\\s+\")).alias(\"word\"))\n",
    "\n",
    "# Count the occurrences of each word\n",
    "word_count_df = words_df.groupBy(\"word\").count()\n",
    "\n",
    "# Show the result\n",
    "word_count_df.show()\n"
   ]
  }
 ],
 "metadata": {
  "kernelspec": {
   "display_name": "Python 3",
   "language": "python",
   "name": "python3"
  },
  "language_info": {
   "codemirror_mode": {
    "name": "ipython",
    "version": 3
   },
   "file_extension": ".py",
   "mimetype": "text/x-python",
   "name": "python",
   "nbconvert_exporter": "python",
   "pygments_lexer": "ipython3",
   "version": "3.12.4"
  }
 },
 "nbformat": 4,
 "nbformat_minor": 2
}
